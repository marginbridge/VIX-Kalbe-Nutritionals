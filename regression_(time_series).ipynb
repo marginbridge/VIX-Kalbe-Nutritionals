{
  "nbformat": 4,
  "nbformat_minor": 0,
  "metadata": {
    "colab": {
      "provenance": []
    },
    "kernelspec": {
      "name": "python3",
      "display_name": "Python 3"
    },
    "language_info": {
      "name": "python"
    }
  },
  "cells": [
    {
      "cell_type": "markdown",
      "source": [
        "Tujuan dari pembuatan model machine learning ini adalah untuk dapat memprediksi total quantity harian dari product yang terjual."
      ],
      "metadata": {
        "id": "vXHHfzEzKBYd"
      }
    },
    {
      "cell_type": "code",
      "execution_count": null,
      "metadata": {
        "id": "btIjgmz5JX06"
      },
      "outputs": [],
      "source": [
        "test"
      ]
    }
  ]
}